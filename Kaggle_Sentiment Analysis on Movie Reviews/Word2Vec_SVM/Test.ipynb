{
 "cells": [
  {
   "cell_type": "markdown",
   "metadata": {},
   "source": [
    "将句子根据空格进行切词，然后根据GLove词向量表获取词向量，最后将整个句子的词向量平均输出得到一维向量"
   ]
  },
  {
   "cell_type": "code",
   "execution_count": 1,
   "metadata": {},
   "outputs": [],
   "source": [
    "import numpy as np\n",
    "\n",
    "# 加载GloVe词嵌入\n",
    "def load_glove_embeddings(file_path):\n",
    "    with open(file_path, 'r', encoding='utf-8') as f:\n",
    "        words = set()\n",
    "        word_to_vec_map = {}\n",
    "        \n",
    "        for line in f:\n",
    "            line = line.strip().split()\n",
    "            curr_word = line[0]\n",
    "            words.add(curr_word)\n",
    "            word_to_vec_map[curr_word] = np.array(line[1:], dtype=np.float32)\n",
    "        \n",
    "        i = 1\n",
    "        words_to_index = {}\n",
    "        index_to_words = {}\n",
    "        for w in sorted(words):\n",
    "            words_to_index[w] = i\n",
    "            index_to_words[i] = w\n",
    "            i = i + 1\n",
    "    return words_to_index, index_to_words, word_to_vec_map\n",
    "\n",
    "# 将句子转换为向量\n",
    "def sentence_to_avg(sentence, word_to_vec_map):\n",
    "    words = sentence.lower().strip().split()\n",
    "    \n",
    "    avg = np.zeros(300,)\n",
    "    \n",
    "    for w in words:\n",
    "        avg += word_to_vec_map[w]\n",
    "    \n",
    "    avg = avg / len(words)\n",
    "    \n",
    "    return avg\n",
    "\n",
    "word_to_index, index_to_word, word_to_vec_map = load_glove_embeddings('data/glove.6B/glove.6B.300d.txt')\n",
    "sentence1 = \"I love dogs\"\n",
    "sentence1_avg = sentence_to_avg(sentence1, word_to_vec_map)\n",
    "sentence2 = \"I love cats\"\n",
    "sentence2_avg = sentence_to_avg(sentence2, word_to_vec_map)\n",
    "sentence3 = \"I hate dogs\"\n",
    "sentence3_avg = sentence_to_avg(sentence3, word_to_vec_map)\n",
    "sentence4 = \"my dad is a doctor and he always go hiking\"\n",
    "sentence4_avg = sentence_to_avg(sentence4, word_to_vec_map)\n"
   ]
  },
  {
   "cell_type": "markdown",
   "metadata": {},
   "source": [
    "画出句子向量的热度图"
   ]
  },
  {
   "cell_type": "code",
   "execution_count": null,
   "metadata": {},
   "outputs": [
    {
     "data": {
      "image/png": "[encoded data removed]",
      "text/plain": [
       "<Figure size 432x288 with 4 Axes>"
      ]
     },
     "metadata": {},
     "output_type": "display_data"
    }
   ],
   "source": [
    "import matplotlib.pyplot as plt \n",
    "import numpy as np \n",
    "\n",
    "\n",
    "# Create the plot\n",
    "fig, ax = plt.subplots(4,1)\n",
    "ax[0].pcolor(sentence1_avg[None, :], cmap=plt.cm.RdYlBu, alpha=0.8, vmax=1, vmin=-1)\n",
    "ax[1].pcolor(sentence2_avg[None, :], cmap=plt.cm.RdYlBu, alpha=0.8, vmax=1, vmin=-1)\n",
    "ax[2].pcolor(sentence3_avg[None, :], cmap=plt.cm.RdYlBu, alpha=0.8, vmax=1, vmin=-1)\n",
    "ax[3].pcolor(sentence4_avg[None, :], cmap=plt.cm.RdYlBu, alpha=0.8, vmax=1, vmin=-1)\n",
    "plt.show()\n"
   ]
  }
 ],
 "metadata": {
  "kernelspec": {
   "display_name": "ML_py38_CU_vs",
   "language": "python",
   "name": "python3"
  },
  "language_info": {
   "codemirror_mode": {
    "name": "ipython",
    "version": 3
   },
   "file_extension": ".py",
   "mimetype": "text/x-python",
   "name": "python",
   "nbconvert_exporter": "python",
   "pygments_lexer": "ipython3",
   "version": "3.8.13"
  },
  "orig_nbformat": 4,
  "vscode": {
   "interpreter": {
    "hash": "daee3ef7e13f2ba8563ff1f376eed2a156efc7e69720623b8e14dd8374738d01"
   }
  }
 },
 "nbformat": 4,
 "nbformat_minor": 2
}
