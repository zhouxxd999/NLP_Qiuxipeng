{
 "cells": [
  {
   "cell_type": "code",
   "execution_count": 1,
   "metadata": {},
   "outputs": [],
   "source": [
    "import pandas as pd\n",
    "import string \n",
    "\n",
    "'''\n",
    "    单词预处理，将单词全部小写，并且去除标点符号\n",
    "'''\n",
    "def preprocessing(phrase):\n",
    "    lower = [phras.lower() for phras in phrase]    # 将字母全部小写\n",
    "    no_punct = [text.translate(str.maketrans('','',string.punctuation)) for text in lower]   # 去掉标点符号\n",
    "    sp = [text.split() for text in no_punct]\n",
    "    res = [' '.join(lis) for lis in sp]\n",
    "\n",
    "    return res\n",
    "\n",
    "\n",
    "def Get_Preprocess_Data(path):\n",
    "    df = pd.read_csv(path,sep='\\t')\n",
    "    print(\"原始数据标签统计： \")\n",
    "    print(df['gold_label'].value_counts())\n",
    "    df = df[['gold_label','sentence1','sentence2']]\n",
    "    print(\"\")\n",
    "    print(\"去除Nan非法制以及非法标签中... \")\n",
    "    print(\"\")\n",
    "    df = df.dropna()\n",
    "    df = df[df.gold_label.isin(['entailment','neutral','contradiction'])]\n",
    "    print(\"处理后数据标签统计： \")\n",
    "    print(df.gold_label.value_counts())\n",
    "\n",
    "\n",
    "    df['sentence1'] = preprocessing(df['sentence1'])\n",
    "    df['sentence2'] = preprocessing(df['sentence2'])\n",
    "    \n",
    "    return df"
   ]
  },
  {
   "cell_type": "code",
   "execution_count": 2,
   "metadata": {},
   "outputs": [
    {
     "name": "stdout",
     "output_type": "stream",
     "text": [
      "原始数据标签统计： \n",
      "entailment       183416\n",
      "contradiction    183187\n",
      "neutral          182764\n",
      "-                   785\n",
      "Name: gold_label, dtype: int64\n",
      "\n",
      "去除Nan非法制以及非法标签中... \n",
      "\n",
      "处理后数据标签统计： \n",
      "entailment       183414\n",
      "contradiction    183185\n",
      "neutral          182762\n",
      "Name: gold_label, dtype: int64\n",
      "原始数据标签统计： \n",
      "entailment       3329\n",
      "contradiction    3278\n",
      "neutral          3235\n",
      "-                 158\n",
      "Name: gold_label, dtype: int64\n",
      "\n",
      "去除Nan非法制以及非法标签中... \n",
      "\n",
      "处理后数据标签统计： \n",
      "entailment       3329\n",
      "contradiction    3278\n",
      "neutral          3235\n",
      "Name: gold_label, dtype: int64\n",
      "原始数据标签统计： \n",
      "entailment       3368\n",
      "contradiction    3237\n",
      "neutral          3219\n",
      "-                 176\n",
      "Name: gold_label, dtype: int64\n",
      "\n",
      "去除Nan非法制以及非法标签中... \n",
      "\n",
      "处理后数据标签统计： \n",
      "entailment       3368\n",
      "contradiction    3237\n",
      "neutral          3219\n",
      "Name: gold_label, dtype: int64\n"
     ]
    }
   ],
   "source": [
    "train_df = Get_Preprocess_Data('../Datasets/snli_1.0/snli_1.0/snli_1.0_train.txt')\n",
    "dev_df = Get_Preprocess_Data('../Datasets/snli_1.0/snli_1.0/snli_1.0_dev.txt')\n",
    "test_df = Get_Preprocess_Data('../Datasets/snli_1.0/snli_1.0/snli_1.0_test.txt')"
   ]
  },
  {
   "cell_type": "code",
   "execution_count": 3,
   "metadata": {},
   "outputs": [
    {
     "name": "stdout",
     "output_type": "stream",
     "text": [
      "all class number :  3\n",
      "Loading exist vocab ... \n",
      "Vocab size: 10002\n",
      "Loading exist vocab ... \n",
      "Vocab size: 10002\n",
      "Loading exist vocab ... \n",
      "Vocab size: 10002\n"
     ]
    }
   ],
   "source": [
    "from importlib import import_module\n",
    "from utils import build_vocab,build_dataset\n",
    "\n",
    "model_name = 'ESIM'\n",
    "\n",
    "x = import_module('models.' + model_name)\n",
    "config = x.Config()\n",
    "print('all class number : ',config.num_classes)\n",
    "\n",
    "vocab,train_dataset = build_dataset(config,train_df,use_word=True,isTest=False)\n",
    "vocab,dev_dataset = build_dataset(config,dev_df,use_word=True,isTest=False)\n",
    "vocab,test_dataset = build_dataset(config,test_df,use_word=True,isTest=True)\n",
    "\n",
    "config.num_vocab = len(vocab)"
   ]
  },
  {
   "cell_type": "code",
   "execution_count": 4,
   "metadata": {},
   "outputs": [],
   "source": [
    "from utils import MyDataset\n",
    "from torch.utils.data import DataLoader,Dataset\n",
    "\n",
    "\n",
    "train_dataset = MyDataset(train_dataset)\n",
    "train_loader = DataLoader(train_dataset,config.batch_size,shuffle=True)\n",
    "\n",
    "dev_dataset = MyDataset(dev_dataset)\n",
    "dev_loader = DataLoader(dev_dataset,config.batch_size,shuffle=True)\n",
    "\n",
    "test_dataset = MyDataset(test_dataset)\n",
    "test_loader = DataLoader(test_dataset,config.batch_size,shuffle=False)"
   ]
  },
  {
   "cell_type": "code",
   "execution_count": 5,
   "metadata": {},
   "outputs": [
    {
     "name": "stdout",
     "output_type": "stream",
     "text": [
      "Epoch [1/50]\n"
     ]
    },
    {
     "name": "stderr",
     "output_type": "stream",
     "text": [
      "100%|██████████| 8584/8584 [09:51<00:00, 14.52it/s]\n"
     ]
    },
    {
     "name": "stdout",
     "output_type": "stream",
     "text": [
      "train loss : 0.7938 ,train acc:0.750 , dev loss : 0.7931,dev acc : 0.751 ,test acc : 0.336\n",
      "saving model ...\n",
      "Epoch [2/50]\n"
     ]
    },
    {
     "name": "stderr",
     "output_type": "stream",
     "text": [
      "100%|██████████| 8584/8584 [09:54<00:00, 14.44it/s]\n"
     ]
    },
    {
     "name": "stdout",
     "output_type": "stream",
     "text": [
      "train loss : 0.7658 ,train acc:0.780 , dev loss : 0.7735,dev acc : 0.771 ,test acc : 0.339\n",
      "saving model ...\n",
      "Epoch [3/50]\n"
     ]
    },
    {
     "name": "stderr",
     "output_type": "stream",
     "text": [
      "100%|██████████| 8584/8584 [09:50<00:00, 14.53it/s]\n"
     ]
    },
    {
     "name": "stdout",
     "output_type": "stream",
     "text": [
      "train loss : 0.7431 ,train acc:0.804 , dev loss : 0.7597,dev acc : 0.787 ,test acc : 0.342\n",
      "saving model ...\n",
      "Epoch [4/50]\n"
     ]
    },
    {
     "name": "stderr",
     "output_type": "stream",
     "text": [
      "100%|██████████| 8584/8584 [09:48<00:00, 14.58it/s]\n"
     ]
    },
    {
     "name": "stdout",
     "output_type": "stream",
     "text": [
      "train loss : 0.7296 ,train acc:0.818 , dev loss : 0.7536,dev acc : 0.792 ,test acc : 0.337\n",
      "saving model ...\n",
      "Epoch [5/50]\n"
     ]
    },
    {
     "name": "stderr",
     "output_type": "stream",
     "text": [
      "100%|██████████| 8584/8584 [09:52<00:00, 14.49it/s]\n"
     ]
    },
    {
     "name": "stdout",
     "output_type": "stream",
     "text": [
      "train loss : 0.7152 ,train acc:0.833 , dev loss : 0.7471,dev acc : 0.799 ,test acc : 0.341\n",
      "saving model ...\n",
      "Epoch [6/50]\n"
     ]
    },
    {
     "name": "stderr",
     "output_type": "stream",
     "text": [
      "100%|██████████| 8584/8584 [09:56<00:00, 14.40it/s]\n"
     ]
    },
    {
     "name": "stdout",
     "output_type": "stream",
     "text": [
      "train loss : 0.7062 ,train acc:0.843 , dev loss : 0.7448,dev acc : 0.800 ,test acc : 0.343\n",
      "saving model ...\n",
      "Epoch [7/50]\n"
     ]
    },
    {
     "name": "stderr",
     "output_type": "stream",
     "text": [
      "100%|██████████| 8584/8584 [09:50<00:00, 14.53it/s]\n"
     ]
    },
    {
     "name": "stdout",
     "output_type": "stream",
     "text": [
      "train loss : 0.6969 ,train acc:0.852 , dev loss : 0.7413,dev acc : 0.806 ,test acc : 0.338\n",
      "saving model ...\n",
      "Epoch [8/50]\n"
     ]
    },
    {
     "name": "stderr",
     "output_type": "stream",
     "text": [
      "100%|██████████| 8584/8584 [09:54<00:00, 14.43it/s]\n"
     ]
    },
    {
     "name": "stdout",
     "output_type": "stream",
     "text": [
      "train loss : 0.6907 ,train acc:0.858 , dev loss : 0.7443,dev acc : 0.802 ,test acc : 0.346\n",
      "Epoch [9/50]\n"
     ]
    },
    {
     "name": "stderr",
     "output_type": "stream",
     "text": [
      "100%|██████████| 8584/8584 [09:52<00:00, 14.49it/s]\n"
     ]
    },
    {
     "name": "stdout",
     "output_type": "stream",
     "text": [
      "train loss : 0.6828 ,train acc:0.867 , dev loss : 0.7403,dev acc : 0.808 ,test acc : 0.341\n",
      "saving model ...\n",
      "Epoch [10/50]\n"
     ]
    },
    {
     "name": "stderr",
     "output_type": "stream",
     "text": [
      "100%|██████████| 8584/8584 [09:56<00:00, 14.40it/s]\n"
     ]
    },
    {
     "name": "stdout",
     "output_type": "stream",
     "text": [
      "train loss : 0.6765 ,train acc:0.873 , dev loss : 0.7441,dev acc : 0.802 ,test acc : 0.342\n",
      "Epoch [11/50]\n"
     ]
    },
    {
     "name": "stderr",
     "output_type": "stream",
     "text": [
      "100%|██████████| 8584/8584 [09:54<00:00, 14.43it/s]\n"
     ]
    },
    {
     "name": "stdout",
     "output_type": "stream",
     "text": [
      "train loss : 0.6729 ,train acc:0.877 , dev loss : 0.7380,dev acc : 0.810 ,test acc : 0.343\n",
      "saving model ...\n",
      "Epoch [12/50]\n"
     ]
    },
    {
     "name": "stderr",
     "output_type": "stream",
     "text": [
      " 63%|██████▎   | 5392/8584 [06:12<03:40, 14.46it/s]\n"
     ]
    },
    {
     "ename": "KeyboardInterrupt",
     "evalue": "",
     "output_type": "error",
     "traceback": [
      "\u001b[1;31m---------------------------------------------------------------------------\u001b[0m",
      "\u001b[1;31mKeyboardInterrupt\u001b[0m                         Traceback (most recent call last)",
      "\u001b[1;32md:\\08_NLP\\QiuxiPeng\\Task3\\Word2Vec_ESIMClf\\ESIM_Test_embedding.ipynb Cell 5\u001b[0m in \u001b[0;36m<cell line: 5>\u001b[1;34m()\u001b[0m\n\u001b[0;32m      <a href='vscode-notebook-cell:/d%3A/08_NLP/QiuxiPeng/Task3/Word2Vec_ESIMClf/ESIM_Test_embedding.ipynb#W4sZmlsZQ%3D%3D?line=0'>1</a>\u001b[0m \u001b[39mfrom\u001b[39;00m \u001b[39mtrain\u001b[39;00m \u001b[39mimport\u001b[39;00m train\n\u001b[0;32m      <a href='vscode-notebook-cell:/d%3A/08_NLP/QiuxiPeng/Task3/Word2Vec_ESIMClf/ESIM_Test_embedding.ipynb#W4sZmlsZQ%3D%3D?line=2'>3</a>\u001b[0m model \u001b[39m=\u001b[39m x\u001b[39m.\u001b[39mModel(config)\u001b[39m.\u001b[39mto(config\u001b[39m.\u001b[39mdevice)\n\u001b[1;32m----> <a href='vscode-notebook-cell:/d%3A/08_NLP/QiuxiPeng/Task3/Word2Vec_ESIMClf/ESIM_Test_embedding.ipynb#W4sZmlsZQ%3D%3D?line=4'>5</a>\u001b[0m train(config,model,train_loader,dev_loader,test_loader)\n",
      "File \u001b[1;32md:\\08_NLP\\QiuxiPeng\\Task3\\Word2Vec_ESIMClf\\train.py:83\u001b[0m, in \u001b[0;36mtrain\u001b[1;34m(config, model, train_iter, dev_iter, test_iter)\u001b[0m\n\u001b[0;32m     81\u001b[0m model\u001b[39m.\u001b[39mzero_grad()\n\u001b[0;32m     82\u001b[0m loss \u001b[39m=\u001b[39m F\u001b[39m.\u001b[39mcross_entropy(outputs, labels)\n\u001b[1;32m---> 83\u001b[0m loss\u001b[39m.\u001b[39;49mbackward()\n\u001b[0;32m     84\u001b[0m optimizer\u001b[39m.\u001b[39mstep()\n\u001b[0;32m     86\u001b[0m train_loss_sum \u001b[39m+\u001b[39m\u001b[39m=\u001b[39m loss\u001b[39m.\u001b[39mcpu()\n",
      "File \u001b[1;32mf:\\ANACONDA\\envs\\ML_py38_CU_vs\\lib\\site-packages\\torch\\_tensor.py:396\u001b[0m, in \u001b[0;36mTensor.backward\u001b[1;34m(self, gradient, retain_graph, create_graph, inputs)\u001b[0m\n\u001b[0;32m    387\u001b[0m \u001b[39mif\u001b[39;00m has_torch_function_unary(\u001b[39mself\u001b[39m):\n\u001b[0;32m    388\u001b[0m     \u001b[39mreturn\u001b[39;00m handle_torch_function(\n\u001b[0;32m    389\u001b[0m         Tensor\u001b[39m.\u001b[39mbackward,\n\u001b[0;32m    390\u001b[0m         (\u001b[39mself\u001b[39m,),\n\u001b[1;32m   (...)\u001b[0m\n\u001b[0;32m    394\u001b[0m         create_graph\u001b[39m=\u001b[39mcreate_graph,\n\u001b[0;32m    395\u001b[0m         inputs\u001b[39m=\u001b[39minputs)\n\u001b[1;32m--> 396\u001b[0m torch\u001b[39m.\u001b[39;49mautograd\u001b[39m.\u001b[39;49mbackward(\u001b[39mself\u001b[39;49m, gradient, retain_graph, create_graph, inputs\u001b[39m=\u001b[39;49minputs)\n",
      "File \u001b[1;32mf:\\ANACONDA\\envs\\ML_py38_CU_vs\\lib\\site-packages\\torch\\autograd\\__init__.py:173\u001b[0m, in \u001b[0;36mbackward\u001b[1;34m(tensors, grad_tensors, retain_graph, create_graph, grad_variables, inputs)\u001b[0m\n\u001b[0;32m    168\u001b[0m     retain_graph \u001b[39m=\u001b[39m create_graph\n\u001b[0;32m    170\u001b[0m \u001b[39m# The reason we repeat same the comment below is that\u001b[39;00m\n\u001b[0;32m    171\u001b[0m \u001b[39m# some Python versions print out the first line of a multi-line function\u001b[39;00m\n\u001b[0;32m    172\u001b[0m \u001b[39m# calls in the traceback and some print out the last line\u001b[39;00m\n\u001b[1;32m--> 173\u001b[0m Variable\u001b[39m.\u001b[39;49m_execution_engine\u001b[39m.\u001b[39;49mrun_backward(  \u001b[39m# Calls into the C++ engine to run the backward pass\u001b[39;49;00m\n\u001b[0;32m    174\u001b[0m     tensors, grad_tensors_, retain_graph, create_graph, inputs,\n\u001b[0;32m    175\u001b[0m     allow_unreachable\u001b[39m=\u001b[39;49m\u001b[39mTrue\u001b[39;49;00m, accumulate_grad\u001b[39m=\u001b[39;49m\u001b[39mTrue\u001b[39;49;00m)\n",
      "\u001b[1;31mKeyboardInterrupt\u001b[0m: "
     ]
    }
   ],
   "source": [
    "from train import train\n",
    "\n",
    "model = x.Model(config).to(config.device)\n",
    "\n",
    "train(config,model,train_loader,dev_loader,test_loader)"
   ]
  }
 ],
 "metadata": {
  "kernelspec": {
   "display_name": "ML_py38_CU_vs",
   "language": "python",
   "name": "python3"
  },
  "language_info": {
   "codemirror_mode": {
    "name": "ipython",
    "version": 3
   },
   "file_extension": ".py",
   "mimetype": "text/x-python",
   "name": "python",
   "nbconvert_exporter": "python",
   "pygments_lexer": "ipython3",
   "version": "3.8.13"
  },
  "orig_nbformat": 4,
  "vscode": {
   "interpreter": {
    "hash": "daee3ef7e13f2ba8563ff1f376eed2a156efc7e69720623b8e14dd8374738d01"
   }
  }
 },
 "nbformat": 4,
 "nbformat_minor": 2
}
